{
 "cells": [
  {
   "cell_type": "code",
   "execution_count": 5,
   "metadata": {},
   "outputs": [
    {
     "data": {
      "image/png": "[encoded data removed]",
      "text/plain": [
       "<Figure size 432x288 with 1 Axes>"
      ]
     },
     "metadata": {
      "needs_background": "light"
     },
     "output_type": "display_data"
    },
    {
     "name": "stdout",
     "output_type": "stream",
     "text": [
      "Max accuracy: 76.380, Pruning: 0.0022\n",
      "Min accuracy: 0.540, Pruning: 0.1613\n",
      "Max pruning: 0.1613, Accuracy: 0.540\n",
      "0 1 1\n",
      "200\n",
      "0\n"
     ]
    }
   ],
   "source": [
    "import pickle\n",
    "import matplotlib.pyplot as plt\n",
    "\n",
    "'''population = []\n",
    "p0 = pickle.load(open('./Results2_resnet56/population_300_0.pkl', 'rb'))\n",
    "p1 = pickle.load(open('./Results2_resnet56/population_300_1.pkl', 'rb'))\n",
    "p2 = pickle.load(open('./Results2_resnet56/population_300_2.pkl', 'rb'))\n",
    "\n",
    "p3 = pickle.load(open('./Results2_resnet32/population_300_3.pkl', 'rb'))\n",
    "p4 = pickle.load(open('./Results2_resnet32/population_300_4.pkl', 'rb'))\n",
    "population = p0 + p1 + p2 + population'''\n",
    "\n",
    "population = pickle.load(open('./Results_resnet50/population-250.pkl', 'rb'))\n",
    "#population = population[0: 4]\n",
    "count = 0\n",
    "pivot = 0\n",
    "pivot1 = 0\n",
    "pivot2 = 0\n",
    "\n",
    "#function2代表模型正确率\n",
    "res1 = []\n",
    "#function1代表模型剪枝率\n",
    "res2 = []\n",
    "max_acc = 0\n",
    "pru = 0\n",
    "min_acc = 100\n",
    "min_pru = 0\n",
    "max_pru = 0\n",
    "acc= 0\n",
    "c_10 = 0\n",
    "p_new = []\n",
    "for ind in population:\n",
    "    count += 1\n",
    "    #if (100 - ind.obj[0]) > 60 and (1 - ind.obj[1] / 23720) > 0.219 and (1 - ind.obj[1] / 23720) < 0.26:\n",
    "    if (1 - ind.obj[1] / 23720) > 0.14:\n",
    "        p_new.append(ind.dec)\n",
    "        c_10 += 1\n",
    "        \n",
    "    if max_acc < 100 - ind.obj[0]:\n",
    "        max_acc = 100 - ind.obj[0]\n",
    "        pivot = count - 1\n",
    "        pru = 1 - ind.obj[1] / 23720\n",
    "    \n",
    "    if 100 - ind.obj[0] < min_acc:\n",
    "        min_acc = 100 - ind.obj[0]\n",
    "        pivot1 = count - 1\n",
    "        min_pru = 1 - ind.obj[1] / 23720\n",
    "        \n",
    "    if max_pru < 1 - ind.obj[1] / 23720:\n",
    "        max_pru = 1 - ind.obj[1] / 23720\n",
    "        acc = 100 - ind.obj[0]\n",
    "        pivot2 = count - 1\n",
    "        \n",
    "    res1.append(100 - ind.obj[0])\n",
    "    res2.append(1 - ind.obj[1] / 23720)\n",
    "    \n",
    "#print('f1:', res1)\n",
    "#print('f2', res2)\n",
    "plt.xlabel('step2_vgg16_bn_rand_fc_0%_40epoch ', fontsize=15)\n",
    "plt.ylabel('Accuracy', fontsize=15)\n",
    "plt.scatter(res2, res1, s = 2, c = 'r', marker = 'o')\n",
    "plt.show()        \n",
    "\n",
    "print('Max accuracy: {max_acc:.3f}, Pruning: {pru:.4f}'\n",
    "                 .format(max_acc = max_acc, pru = pru))\n",
    "print('Min accuracy: {acc:.3f}, Pruning: {max_pru:.4f}'\n",
    "                 .format(acc = min_acc, max_pru = min_pru))\n",
    "\n",
    "print('Max pruning: {max_pru:.4f}, Accuracy: {acc:.3f}'\n",
    "                 .format(acc = acc, max_pru = max_pru))\n",
    "\n",
    "\n",
    "print(pivot, pivot1, pivot2)\n",
    "print(count)\n",
    "print(c_10)\n",
    "#print(population[28].dec)\n",
    "#print(100 - population[28].obj[0])"
   ]
  },
  {
   "cell_type": "code",
   "execution_count": 1,
   "metadata": {},
   "outputs": [
    {
     "name": "stdout",
     "output_type": "stream",
     "text": [
      "23720\n"
     ]
    }
   ],
   "source": [
    "print(sum([64, 64, 64, 256, 64, 64, 256, 64, 64, 256, 128, 128, 512, 128, 128, 512, 128, 128, 512, 128, 128, 512, 256, 256, 1024, 256, 256, 1024, 256, 256, 1024, 256, 256, 1024, 256, 256, 1024, 256, 256, 1024, 512, 512, 2048, 512, 512, 2048, 512, 512, 2048, 1000]))"
   ]
  },
  {
   "cell_type": "code",
   "execution_count": null,
   "metadata": {},
   "outputs": [],
   "source": []
  }
 ],
 "metadata": {
  "kernelspec": {
   "display_name": "Python 3",
   "language": "python",
   "name": "python3"
  },
  "language_info": {
   "codemirror_mode": {
    "name": "ipython",
    "version": 3
   },
   "file_extension": ".py",
   "mimetype": "text/x-python",
   "name": "python",
   "nbconvert_exporter": "python",
   "pygments_lexer": "ipython3",
   "version": "3.6.7"
  }
 },
 "nbformat": 4,
 "nbformat_minor": 4
}
