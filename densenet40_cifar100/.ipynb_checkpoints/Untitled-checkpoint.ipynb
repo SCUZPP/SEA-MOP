{
 "cells": [
  {
   "cell_type": "code",
   "execution_count": 5,
   "metadata": {
    "ExecuteTime": {
     "end_time": "2020-08-31T14:59:13.537263Z",
     "start_time": "2020-08-31T14:59:13.507380Z"
    },
    "collapsed": true
   },
   "outputs": [],
   "source": [
    "temp = []\n",
    "res = []\n",
    "filter_divide = []\n",
    "\n",
    "for i in range(len(filter_divide)):\n",
    "\n",
    "    if i == 0:\n",
    "        res.append(filter_divide[i])\n",
    "        temp = temp + filter_divide[i]\n",
    "\n",
    "    else:\n",
    "        if i == 13:\n",
    "            res.append(filter_divide[i])\n",
    "            temp = filter_divide[i]\n",
    "\n",
    "        elif i == 26:\n",
    "            res.append(filter_divide[i])\n",
    "            temp = filter_divide[i]\n",
    "\n",
    "        else:\n",
    "            temp = temp + filter_divide[i]\n",
    "            res.append(filter_divide[i])"
   ]
  },
  {
   "cell_type": "markdown",
   "metadata": {
    "ExecuteTime": {
     "end_time": "2020-08-31T14:58:40.189903Z",
     "start_time": "2020-08-31T14:58:40.165358Z"
    }
   },
   "source": [
    "import numpy as np\n",
    "temp = []\n",
    "for i in range(40):\n",
    "    if i == 0:\n",
    "        temp.append([1,0,1,1])\n",
    "    else:\n",
    "        a = []\n",
    "        for i in range(3):\n",
    "            a.append(np.random.randint(2))\n",
    "        print(a)\n",
    "        temp.append(a)\n",
    "print(temp)   "
   ]
  },
  {
   "cell_type": "code",
   "execution_count": 7,
   "metadata": {
    "ExecuteTime": {
     "end_time": "2020-08-31T15:01:12.299595Z",
     "start_time": "2020-08-31T15:01:12.281335Z"
    }
   },
   "outputs": [
    {
     "name": "stdout",
     "output_type": "stream",
     "text": [
      "[[1, 0, 1, 1], [0, 1, 0], [1, 0, 0], [1, 0, 1], [1, 1, 1], [1, 1, 0], [0, 0, 0], [0, 0, 0], [1, 1, 0], [1, 0, 0], [0, 1, 0], [1, 1, 1], [0, 1, 0], [1, 0, 1], [1, 0, 0], [0, 1, 1], [0, 0, 0], [0, 0, 1], [0, 0, 0], [1, 1, 0], [1, 0, 1], [1, 0, 0], [0, 0, 0], [0, 0, 1], [1, 1, 0], [1, 1, 1], [1, 1, 1], [0, 0, 1], [1, 0, 1], [0, 0, 1], [0, 0, 0], [1, 0, 0], [1, 1, 0], [0, 0, 0], [0, 1, 1], [0, 0, 1], [0, 1, 0], [1, 1, 0], [1, 0, 0], [1, 1, 1]]\n"
     ]
    }
   ],
   "source": [
    "import numpy as np\n",
    "temp = []\n",
    "for i in range(40):\n",
    "    if i == 0:\n",
    "        temp.append([1,0,1,1])\n",
    "    else:\n",
    "        a = []\n",
    "        for j in range(3):\n",
    "            a.append(np.random.randint(2))\n",
    "        temp.append(a)\n",
    "print(temp)"
   ]
  },
  {
   "cell_type": "code",
   "execution_count": 16,
   "metadata": {
    "ExecuteTime": {
     "end_time": "2020-09-01T03:19:19.026947Z",
     "start_time": "2020-09-01T03:19:18.909316Z"
    }
   },
   "outputs": [
    {
     "name": "stdout",
     "output_type": "stream",
     "text": [
      "temp [1, 0, 1, 1, 0, 1, 0]\n",
      "temp [1, 0, 1, 1, 0, 1, 0, 1, 0]\n",
      "temp [1, 0, 1, 1, 0, 1, 0, 1, 0, 1, 0, 1]\n",
      "temp [1, 0, 1, 1, 0, 1, 0, 1, 0, 1, 0, 1, 1]\n",
      "temp [1, 0, 1, 1, 0, 1, 0, 1, 0, 1, 0, 1, 1, 1, 1, 0]\n",
      "temp [1, 0, 1, 1, 0, 1, 0, 1, 0, 1, 0, 1, 1, 1, 1, 0, 0, 0, 0]\n",
      "temp [1, 0, 1, 1, 0, 1, 0, 1, 0, 1, 0, 1, 1, 1, 1, 0, 0, 0, 0, 0, 0, 0]\n",
      "temp [1, 0, 1, 1, 0, 1, 0, 1, 0, 1, 0, 1, 1, 1, 1, 0, 0, 0, 0, 0, 0, 0, 1, 1, 0]\n",
      "temp [1, 0, 1, 1, 0, 1, 0, 1, 0, 1, 0, 1, 1, 1, 1, 0, 0, 0, 0, 0, 0, 0, 1, 1, 0, 1, 0, 0]\n",
      "temp [1, 0, 1, 1, 0, 1, 0, 1, 0, 1, 0, 1, 1, 1, 1, 0, 0, 0, 0, 0, 0, 0, 1, 1, 0, 1, 0, 0, 0, 1, 0]\n",
      "temp [1, 0, 1, 1, 0, 1, 0, 1, 0, 1, 0, 1, 1, 1, 1, 0, 0, 0, 0, 0, 0, 0, 1, 1, 0, 1, 0, 0, 0, 1, 0, 1, 1, 1]\n",
      "temp [1, 0, 1, 1, 0, 1, 0, 1, 0, 1, 0, 1, 1, 1, 1, 0, 0, 0, 0, 0, 0, 0, 1, 1, 0, 1, 0, 0, 0, 1, 0, 1, 1, 1, 0, 1, 0]\n",
      "temp [1, 0, 1, 1, 0, 0]\n",
      "temp [1, 0, 1, 1, 0, 0, 0, 1, 1]\n",
      "temp [1, 0, 1, 1, 0, 0, 0, 1, 1, 0, 0, 0]\n",
      "temp [1, 0, 1, 1, 0, 0, 0, 1, 1, 0, 0, 0, 0, 0, 1]\n",
      "temp [1, 0, 1, 1, 0, 0, 0, 1, 1, 0, 0, 0, 0, 0, 1, 0, 0, 0]\n",
      "temp [1, 0, 1, 1, 0, 0, 0, 1, 1, 0, 0, 0, 0, 0, 1, 0, 0, 0, 1, 1, 0]\n",
      "temp [1, 0, 1, 1, 0, 0, 0, 1, 1, 0, 0, 0, 0, 0, 1, 0, 0, 0, 1, 1, 0, 1, 0, 1]\n",
      "temp [1, 0, 1, 1, 0, 0, 0, 1, 1, 0, 0, 0, 0, 0, 1, 0, 0, 0, 1, 1, 0, 1, 0, 1, 1, 0, 0]\n",
      "temp [1, 0, 1, 1, 0, 0, 0, 1, 1, 0, 0, 0, 0, 0, 1, 0, 0, 0, 1, 1, 0, 1, 0, 1, 1, 0, 0, 0, 0, 0]\n",
      "temp [1, 0, 1, 1, 0, 0, 0, 1, 1, 0, 0, 0, 0, 0, 1, 0, 0, 0, 1, 1, 0, 1, 0, 1, 1, 0, 0, 0, 0, 0, 0, 0, 1]\n",
      "temp [1, 0, 1, 1, 0, 0, 0, 1, 1, 0, 0, 0, 0, 0, 1, 0, 0, 0, 1, 1, 0, 1, 0, 1, 1, 0, 0, 0, 0, 0, 0, 0, 1, 1, 1, 0]\n",
      "temp [1, 0, 1, 1, 0, 0, 0, 1, 1, 0, 0, 0, 0, 0, 1, 0, 0, 0, 1, 1, 0, 1, 0, 1, 1, 0, 0, 0, 0, 0, 0, 0, 1, 1, 1, 0, 1, 1, 1]\n",
      "temp [1, 1, 1, 0, 0, 1]\n",
      "temp [1, 1, 1, 0, 0, 1, 1, 0, 1]\n",
      "temp [1, 1, 1, 0, 0, 1, 1, 0, 1, 0, 0, 1]\n",
      "temp [1, 1, 1, 0, 0, 1, 1, 0, 1, 0, 0, 1, 0, 0, 0]\n",
      "temp [1, 1, 1, 0, 0, 1, 1, 0, 1, 0, 0, 1, 0, 0, 0, 1, 0, 0]\n",
      "temp [1, 1, 1, 0, 0, 1, 1, 0, 1, 0, 0, 1, 0, 0, 0, 1, 0, 0, 1, 1, 0]\n",
      "temp [1, 1, 1, 0, 0, 1, 1, 0, 1, 0, 0, 1, 0, 0, 0, 1, 0, 0, 1, 1, 0, 0, 0, 0]\n",
      "temp [1, 1, 1, 0, 0, 1, 1, 0, 1, 0, 0, 1, 0, 0, 0, 1, 0, 0, 1, 1, 0, 0, 0, 0, 0, 1, 1]\n",
      "temp [1, 1, 1, 0, 0, 1, 1, 0, 1, 0, 0, 1, 0, 0, 0, 1, 0, 0, 1, 1, 0, 0, 0, 0, 0, 1, 1, 0, 0, 1]\n",
      "temp [1, 1, 1, 0, 0, 1, 1, 0, 1, 0, 0, 1, 0, 0, 0, 1, 0, 0, 1, 1, 0, 0, 0, 0, 0, 1, 1, 0, 0, 1, 0, 1, 0]\n",
      "temp [1, 1, 1, 0, 0, 1, 1, 0, 1, 0, 0, 1, 0, 0, 0, 1, 0, 0, 1, 1, 0, 0, 0, 0, 0, 1, 1, 0, 0, 1, 0, 1, 0, 1, 1, 0]\n",
      "temp [1, 1, 1, 0, 0, 1, 1, 0, 1, 0, 0, 1, 0, 0, 0, 1, 0, 0, 1, 1, 0, 0, 0, 0, 0, 1, 1, 0, 0, 1, 0, 1, 0, 1, 1, 0, 1, 0, 0]\n",
      "temp [1, 1, 1, 0, 0, 1, 1, 0, 1, 0, 0, 1, 0, 0, 0, 1, 0, 0, 1, 1, 0, 0, 0, 0, 0, 1, 1, 0, 0, 1, 0, 1, 0, 1, 1, 0, 1, 0, 0, 1, 1, 1]\n",
      "40\n"
     ]
    }
   ],
   "source": [
    "temp = []\n",
    "res = []\n",
    "filter_divide = [[1, 0, 1, 1], [0, 1, 0], [1, 0], [1, 0, 1], [1], [1, 1, 0], [0, 0, 0], [0, 0, 0], [1, 1, 0], [1, 0, 0], [0, 1, 0], [1, 1, 1], [0, 1, 0], [1, 0, 1], [1, 0, 0], [0, 1, 1], [0, 0, 0], [0, 0, 1], [0, 0, 0], [1, 1, 0], [1, 0, 1], [1, 0, 0], [0, 0, 0], [0, 0, 1], [1, 1, 0], [1, 1, 1], [1, 1, 1], [0, 0, 1], [1, 0, 1], [0, 0, 1], [0, 0, 0], [1, 0, 0], [1, 1, 0], [0, 0, 0], [0, 1, 1], [0, 0, 1], [0, 1, 0], [1, 1, 0], [1, 0, 0], [1, 1, 1]]\n",
    "\n",
    "for i in range(len(filter_divide)):\n",
    "\n",
    "    if i == 0:\n",
    "        res.append(filter_divide[i])\n",
    "        temp = temp + filter_divide[i]\n",
    "\n",
    "    else:\n",
    "        if i == 13:\n",
    "            res.append(filter_divide[i])\n",
    "            temp = filter_divide[i]\n",
    "\n",
    "        elif i == 26:\n",
    "            res.append(filter_divide[i])\n",
    "            temp = filter_divide[i]\n",
    "\n",
    "        else:\n",
    "            temp = temp + filter_divide[i]\n",
    "            print('temp', temp)\n",
    "            res.append(temp)\n",
    "print(len(res))\n",
    "#for i in res:\n",
    "#    print(len(i))"
   ]
  },
  {
   "cell_type": "code",
   "execution_count": 40,
   "metadata": {
    "ExecuteTime": {
     "end_time": "2020-09-01T04:27:36.572498Z",
     "start_time": "2020-09-01T04:27:36.499098Z"
    }
   },
   "outputs": [
    {
     "name": "stdout",
     "output_type": "stream",
     "text": [
      "c 34\n",
      "cfg [[1], [1, 1, 1], [1, 1, 1, 0, 0], [1, 1, 0, 1], [1, 1, 0, 1, 0, 1], [1, 1, 0, 1, 0, 1, 1, 1], [0, 0, 1, 1, 0], [1, 0]]\n",
      "cfg 34\n"
     ]
    }
   ],
   "source": [
    "import numpy as np\n",
    "import operator\n",
    "from functools import reduce\n",
    "\n",
    "\n",
    "temp = []\n",
    "cfg_code = []\n",
    "index = 0\n",
    "count = 0\n",
    "num = 0\n",
    "filter_code = [1, 1, 1, 0, 0, 1, 1, 0, 1, 0, 1, 1, 1, 0, 0, 1, 1, 0, 1, 0]\n",
    "filter_nums = [1, 2, 2, 4, 2, 2, 5, 2]\n",
    "for i in filter_nums:\n",
    "    count += i\n",
    "    if index == 0:\n",
    "        temp = filter_code[: i]\n",
    "        \n",
    "    elif index == len(filter_nums) - 1:\n",
    "        temp = filter_code[count - i : count]\n",
    "        \n",
    "    elif index == 3 or index == 6:\n",
    "        temp = filter_code[count - i : count]\n",
    "\n",
    "    else:\n",
    "        temp = temp + filter_code[count - i : count]\n",
    "        #print('t', temp)\n",
    "        \n",
    "    index += 1\n",
    "    num += len(temp)\n",
    "    cfg_code.append(temp)\n",
    "print('c', num)\n",
    "print('cfg', cfg_code)\n",
    "#list(chain.from_iterable(cfg_code))\n",
    "\n",
    "cfg_code = [i for item in cfg_code for i in item]\n",
    "print('cfg', len(cfg_code))\n"
   ]
  },
  {
   "cell_type": "code",
   "execution_count": 43,
   "metadata": {
    "ExecuteTime": {
     "end_time": "2020-09-01T07:11:00.649360Z",
     "start_time": "2020-09-01T07:11:00.630025Z"
    }
   },
   "outputs": [
    {
     "name": "stdout",
     "output_type": "stream",
     "text": [
      "40\n",
      "[24, 36, 48, 60, 72, 84, 96, 108, 120, 132, 144, 156, 168, 180, 192, 204, 216, 228, 240, 252, 264, 276, 288, 300, 312, 324, 336, 348, 360, 372, 384, 396, 408, 420, 432, 444, 456, 468, 480, 10]\n"
     ]
    }
   ],
   "source": [
    "a = []\n",
    "for i in range(40):\n",
    "    if i == 0:\n",
    "        a.append(24)\n",
    "        \n",
    "    elif i == 39:\n",
    "        a.append(10)\n",
    "    \n",
    "    else:\n",
    "        a.append(24 + i * 12)\n",
    "print(len(a))\n",
    "print(a)       "
   ]
  },
  {
   "cell_type": "code",
   "execution_count": 44,
   "metadata": {
    "ExecuteTime": {
     "end_time": "2020-09-01T07:26:22.258088Z",
     "start_time": "2020-09-01T07:26:22.237969Z"
    }
   },
   "outputs": [
    {
     "name": "stdout",
     "output_type": "stream",
     "text": [
      "9370\n"
     ]
    }
   ],
   "source": [
    "a = [24, 36, 48, 60, 72, 84, 96, 108, 120, 132, 144, 156, 168, 168, 180, 192, 204, 216, 228, 240, 252, 264, 276, 288, 300, 312, 312,\n",
    " 324, 336, 348, 360, 372, 384, 396, 408, 420, 432, 444, 456, 10]\n",
    "\n",
    "temp = 0\n",
    "for i in a:\n",
    "    temp += i\n",
    "print(temp)\n"
   ]
  },
  {
   "cell_type": "code",
   "execution_count": 46,
   "metadata": {
    "ExecuteTime": {
     "end_time": "2020-09-01T07:33:21.768726Z",
     "start_time": "2020-09-01T07:33:21.681861Z"
    }
   },
   "outputs": [
    {
     "name": "stdout",
     "output_type": "stream",
     "text": [
      "[[0]\n",
      " [1]\n",
      " [1]\n",
      " [1]\n",
      " [1]\n",
      " [0]\n",
      " [0]]\n"
     ]
    },
    {
     "data": {
      "text/plain": [
       "array([[0],\n",
       "       [1],\n",
       "       [1],\n",
       "       [1],\n",
       "       [1],\n",
       "       [0],\n",
       "       [0]])"
      ]
     },
     "execution_count": 46,
     "metadata": {},
     "output_type": "execute_result"
    }
   ],
   "source": [
    "def handle_cfg(pruning_filter):\n",
    "\n",
    "    #print(pruning_filter)\n",
    "    name = ['1', '2']\n",
    "    gene_length = 9370\n",
    "    filter_num = [3, 4]\n",
    "    filter_length =sum(filter_num)\n",
    "    pruning_filter_index = []\n",
    "    \n",
    "    index = 0\n",
    "    count = 0\n",
    "   # name 按顺序存储卷积层和全连接层的下标，按照name中的顺序取出层对应的filters\n",
    "        \n",
    "    for name_layer in name:\n",
    "        temp_filters = pruning_filter[name_layer]\n",
    "        if index == 0:\n",
    "            for filters in temp_filters:\n",
    "                pruning_filter_index.append(filters)\n",
    "                \n",
    "        else:\n",
    "            count += filter_num[index - 1]\n",
    "            for filters in temp_filters:\n",
    "                temp = count + filters\n",
    "                pruning_filter_index.append(temp)   \n",
    "                \n",
    "        index = index + 1\n",
    "            \n",
    "    pruning_filter_index = sorted(pruning_filter_index)\n",
    "    filter_code = np.ones((filter_length, 1), dtype=np.int)\n",
    "    \n",
    "    #出现在Pruning_filter_index中的filters的值被设为0\n",
    "    for i in pruning_filter_index:\n",
    "        filter_code[i] = 0\n",
    "    print(filter_code)   \n",
    "    return filter_code\n",
    "# In[14]:\n",
    "pruning_filter = {'1': [0], '2': [3, 2]}\n",
    "handle_cfg(pruning_filter)"
   ]
  },
  {
   "cell_type": "code",
   "execution_count": 50,
   "metadata": {
    "ExecuteTime": {
     "end_time": "2020-09-01T07:55:59.494829Z",
     "start_time": "2020-09-01T07:55:59.483928Z"
    }
   },
   "outputs": [
    {
     "name": "stdout",
     "output_type": "stream",
     "text": [
      "4\n"
     ]
    }
   ],
   "source": [
    "import numpy as np\n",
    "a = np.array([1, 1])\n",
    "b = np.array([0, 1])\n",
    "c = np.concatenate((a,b),axis=0)\n",
    "print(len(c))"
   ]
  },
  {
   "cell_type": "code",
   "execution_count": 52,
   "metadata": {
    "ExecuteTime": {
     "end_time": "2020-09-01T08:34:15.784228Z",
     "start_time": "2020-09-01T08:34:15.759050Z"
    }
   },
   "outputs": [
    {
     "name": "stdout",
     "output_type": "stream",
     "text": [
      "[[1, 0, 1], [0, 1, 1, 0]]\n"
     ]
    }
   ],
   "source": [
    "cfg = []\n",
    "res = []\n",
    "filter_num = [3, 4]\n",
    "pruning_filter = {'0' : [1], '1' : [3, 0]}\n",
    "for i in filter_num:\n",
    "    temp = [1] * i\n",
    "    cfg.append(temp)\n",
    "    \n",
    "for i in range(len(cfg)):\n",
    "    temp = cfg[i]\n",
    "    name = str(i)\n",
    "    index = pruning_filter[name]\n",
    "    for ind in index:\n",
    "        temp[ind] = 0\n",
    "    res.append(temp)\n",
    "print(res)    "
   ]
  },
  {
   "cell_type": "code",
   "execution_count": 5,
   "metadata": {
    "ExecuteTime": {
     "end_time": "2020-09-01T13:17:08.351361Z",
     "start_time": "2020-09-01T13:17:08.286504Z"
    }
   },
   "outputs": [
    {
     "name": "stdout",
     "output_type": "stream",
     "text": [
      "len_filters [1, 1, 1]\n",
      "len_filters [0, 0, 1, 0]\n"
     ]
    }
   ],
   "source": [
    "import numpy as np\n",
    "filter_nums = [3, 4, 5]\n",
    "solution = [1, 1, 1, 0, 0, 1, 0, 1, 0, 1, 0, 0]\n",
    "res = []\n",
    "low = 0\n",
    "count = []\n",
    "c = 0\n",
    "high = filter_nums[0]\n",
    "#print('solution', solution.shape)\n",
    "for index in range(len(filter_nums)):\n",
    "\n",
    "    if index == 0:\n",
    "        filters = solution[low : high]\n",
    "\n",
    "\n",
    "    elif index == len(filter_nums) - 1:\n",
    "\n",
    "        c = c + filter_nums[len(filter_nums) - 1]      \n",
    "        break\n",
    "\n",
    "    else:\n",
    "        low = high\n",
    "        high = filter_nums[index] + low\n",
    "        filters = solution[low : high]\n",
    "\n",
    "    if index == 0 or index == 1:   \n",
    "        print('len_filters', filters)\n",
    "\n",
    "    temp = np.sum(filters)\n",
    "    #print('temp', temp)\n",
    "    res.append(filters)\n",
    "    count.append(temp)        \n",
    "    c = c + temp"
   ]
  },
  {
   "cell_type": "code",
   "execution_count": 3,
   "metadata": {},
   "outputs": [
    {
     "name": "stdout",
     "output_type": "stream",
     "text": [
      "[1, 1, 1, 1, 1, 1, 1, 1, 1, 1, 1, 1, 1, 1, 1, 1, 1, 1, 1, 1, 1, 1, 1, 1, 1, 1, 1, 1, 1, 1, 1, 1, 1, 1, 1, 1, 1, 1, 1, 1, 1, 1, 1, 1, 1, 1, 1, 1, 1, 1, 1, 1, 1, 1, 1, 1, 1, 1, 1, 1, 1, 1, 1, 1, 1, 1, 1, 1, 1, 1, 1, 1, 1, 1, 1, 1, 1, 1, 1, 1, 1, 1, 1, 1, 1, 1, 1, 1, 1, 1, 1, 1, 1, 1, 1, 1, 1, 1, 1, 1]\n"
     ]
    }
   ],
   "source": [
    "a = [1] * 100\n",
    "print(a)"
   ]
  },
  {
   "cell_type": "code",
   "execution_count": 7,
   "metadata": {},
   "outputs": [
    {
     "name": "stdout",
     "output_type": "stream",
     "text": [
      "[3, 8, 3]\n"
     ]
    }
   ],
   "source": [
    "import numpy as np\n",
    "cfg_code = [[[1,2], [[1,2], [2,3]], [0,3]]]\n",
    "cfg_code = [np.sum(np.abs(i)) for item in cfg_code for i in item]\n",
    "print(cfg_code)"
   ]
  },
  {
   "cell_type": "code",
   "execution_count": null,
   "metadata": {
    "collapsed": true
   },
   "outputs": [],
   "source": [
    "import pickle\n",
    "p = pickle.load(open('population_dict/population_dict_densenet40.pkl', 'rb'))\n",
    "\n",
    "p0 = p[0:25]\n",
    "p1 = p[25:50]\n",
    "p2 = p[50:75]\n",
    "p3 = p[75:100]\n",
    "p4 = p[100:125]\n",
    "p5 = p[125:150]\n",
    "p6 = p[150:175]\n",
    "p7 = p[175:200]\n",
    "\n",
    "with open('population_dict/population_dict_resnet56_p0.pkl', 'wb') as f:\n",
    "    pickle.dump(p0, f)  \n",
    "with open('population_dict/population_dict_resnet56_p1.pkl', 'wb') as f:\n",
    "    pickle.dump(p1, f)  \n",
    "with open('population_dict/population_dict_resnet56_p2.pkl', 'wb') as f:\n",
    "    pickle.dump(p2, f)  \n",
    "with open('population_dict/population_dict_resnet56_p3.pkl', 'wb') as f:\n",
    "    pickle.dump(p3, f)  \n",
    "with open('population_dict/population_dict_resnet56_p4.pkl', 'wb') as f:\n",
    "    pickle.dump(p4, f)  \n",
    "with open('population_dict/population_dict_resnet56_p5.pkl', 'wb') as f:\n",
    "    pickle.dump(p5, f)  \n",
    "with open('population_dict/population_dict_resnet56_p6.pkl', 'wb') as f:\n",
    "    pickle.dump(p6, f)  \n",
    "with open('population_dict/population_dict_resnet56_p7.pkl', 'wb') as f:\n",
    "    pickle.dump(p7, f)  "
   ]
  }
 ],
 "metadata": {
  "kernelspec": {
   "display_name": "Python 3",
   "language": "python",
   "name": "python3"
  },
  "language_info": {
   "codemirror_mode": {
    "name": "ipython",
    "version": 3
   },
   "file_extension": ".py",
   "mimetype": "text/x-python",
   "name": "python",
   "nbconvert_exporter": "python",
   "pygments_lexer": "ipython3",
   "version": "3.6.3"
  },
  "toc": {
   "base_numbering": 1,
   "nav_menu": {},
   "number_sections": true,
   "sideBar": true,
   "skip_h1_title": false,
   "title_cell": "Table of Contents",
   "title_sidebar": "Contents",
   "toc_cell": false,
   "toc_position": {},
   "toc_section_display": true,
   "toc_window_display": false
  }
 },
 "nbformat": 4,
 "nbformat_minor": 2
}
